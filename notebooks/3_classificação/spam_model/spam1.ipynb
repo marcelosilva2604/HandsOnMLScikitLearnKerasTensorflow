{
 "cells": [
  {
   "cell_type": "code",
   "execution_count": 1,
   "id": "db40014b",
   "metadata": {},
   "outputs": [],
   "source": [
    "import os\n",
    "import email\n",
    "import email.policy\n",
    "from collections import Counter\n",
    "import numpy as np\n",
    "from sklearn.model_selection import train_test_split\n",
    "from sklearn.naive_bayes import MultinomialNB\n",
    "from sklearn.pipeline import Pipeline\n",
    "from sklearn.feature_extraction.text import CountVectorizer"
   ]
  },
  {
   "cell_type": "code",
   "execution_count": 3,
   "id": "e2e285aa",
   "metadata": {},
   "outputs": [
    {
     "name": "stdout",
     "output_type": "stream",
     "text": [
      "Diretório existe: True\n",
      "Caminho absoluto: /Users/marcelosilva/Desktop/Hands-on/notebooks/3_classificação/spam_model/spam_model_data\n",
      "Conteúdo: ['20030228_hard_ham.tar.bz2', 'spam', 'hard_ham', 'spam_2', 'easy_ham', '20030228_spam_2.tar.bz2', '20030228_spam.tar.bz2', '20030228_easy_ham.tar.bz2']\n"
     ]
    }
   ],
   "source": [
    "import os\n",
    "\n",
    "# Verificar se o diretório existe\n",
    "data_path = \"spam_model_data\"\n",
    "print(f\"Diretório existe: {os.path.exists(data_path)}\")\n",
    "print(f\"Caminho absoluto: {os.path.abspath(data_path)}\")\n",
    "\n",
    "# Listar conteúdo do diretório (se existir)\n",
    "if os.path.exists(data_path):\n",
    "    print(f\"Conteúdo: {os.listdir(data_path)}\")\n",
    "else:\n",
    "    print(\"❌ Diretório não encontrado!\")"
   ]
  },
  {
   "cell_type": "code",
   "execution_count": 4,
   "id": "85592db5",
   "metadata": {},
   "outputs": [
    {
     "name": "stdout",
     "output_type": "stream",
     "text": [
      "\n",
      "📁 easy_ham:\n",
      "  Existe: True\n",
      "  Arquivos: 2501\n",
      "  Primeiros 3: ['00769.25bf9a767b5db0ed93f03c1637281663', '01074.8590d61ac0aeeadb58dc2f2ba776c406', '02479.14365bcad3a60fcf24c5c1813f6291fb']\n",
      "\n",
      "📁 hard_ham:\n",
      "  Existe: True\n",
      "  Arquivos: 251\n",
      "  Primeiros 3: ['00113.1d37bdbcad4975b5012cc6d87a048ecf', '00165.4e1923f1c9091dc00d79dfe004eedf26', '00044.b2f03a4d512deb2c4702a3bd60a4fd88']\n",
      "\n",
      "📁 spam:\n",
      "  Existe: True\n",
      "  Arquivos: 501\n",
      "  Primeiros 3: ['00249.5f45607c1bffe89f60ba1ec9f878039a', '00373.ebe8670ac56b04125c25100a36ab0510', '00214.1367039e50dc6b7adb0f2aa8aba83216']\n",
      "\n",
      "📁 spam_2:\n",
      "  Existe: True\n",
      "  Arquivos: 1398\n",
      "  Primeiros 3: ['01246.d0ee9c7ebf9d953b21de9414cc96c2f9', '01099.f33c6cb5a233f19e1dc1956871c50681', '00346.d93a823fb3350a5da8f0c612ce1156cd']\n"
     ]
    }
   ],
   "source": [
    "# Verificar cada subpasta individualmente\n",
    "subfolders = [\"easy_ham\", \"hard_ham\", \"spam\", \"spam_2\"]\n",
    "\n",
    "for folder in subfolders:\n",
    "    full_path = os.path.join(data_path, folder)\n",
    "    print(f\"\\n📁 {folder}:\")\n",
    "    print(f\"  Existe: {os.path.exists(full_path)}\")\n",
    "    \n",
    "    if os.path.exists(full_path):\n",
    "        files = [f for f in os.listdir(full_path) if not f.startswith('.')]\n",
    "        print(f\"  Arquivos: {len(files)}\")\n",
    "        print(f\"  Primeiros 3: {files[:3]}\")\n",
    "    else:\n",
    "        print(f\"  ❌ Pasta não encontrada!\")"
   ]
  },
  {
   "cell_type": "code",
   "execution_count": 5,
   "id": "7812e89c",
   "metadata": {},
   "outputs": [
    {
     "name": "stdout",
     "output_type": "stream",
     "text": [
      "🔄 Carregando emails...\n",
      "📁 Processando 2501 arquivos em easy_ham\n",
      "✅ 2501 emails carregados com sucesso!\n",
      "📁 Processando 251 arquivos em hard_ham\n",
      "✅ 251 emails carregados com sucesso!\n",
      "📁 Processando 501 arquivos em spam\n",
      "✅ 501 emails carregados com sucesso!\n",
      "📁 Processando 1398 arquivos em spam_2\n",
      "✅ 1398 emails carregados com sucesso!\n",
      "\n",
      "📊 RESUMO:\n",
      "HAM emails: 2752\n",
      "SPAM emails: 1899\n",
      "Total: 4651\n"
     ]
    }
   ],
   "source": [
    "def load_emails_from_folder(folder_path):\n",
    "    \"\"\"\n",
    "    Carrega todos os emails de uma pasta\n",
    "    \"\"\"\n",
    "    emails = []\n",
    "    \n",
    "    if not os.path.exists(folder_path):\n",
    "        print(f\"❌ Pasta não encontrada: {folder_path}\")\n",
    "        return emails\n",
    "    \n",
    "    files = [f for f in os.listdir(folder_path) if not f.startswith('.')]\n",
    "    print(f\"📁 Processando {len(files)} arquivos em {os.path.basename(folder_path)}\")\n",
    "    \n",
    "    for filename in files:\n",
    "        file_path = os.path.join(folder_path, filename)\n",
    "        \n",
    "        if not os.path.isfile(file_path):\n",
    "            continue\n",
    "            \n",
    "        try:\n",
    "            with open(file_path, 'rb') as f:\n",
    "                msg = email.message_from_binary_file(f, policy=email.policy.default)\n",
    "                \n",
    "                # Extrair conteúdo do email\n",
    "                if msg.is_multipart():\n",
    "                    body = \"\"\n",
    "                    for part in msg.walk():\n",
    "                        if part.get_content_type() == \"text/plain\":\n",
    "                            try:\n",
    "                                body += part.get_content()\n",
    "                            except:\n",
    "                                body += str(part.get_payload())\n",
    "                else:\n",
    "                    try:\n",
    "                        body = msg.get_content()\n",
    "                    except:\n",
    "                        body = str(msg.get_payload())\n",
    "                \n",
    "                emails.append(str(body))\n",
    "                \n",
    "        except Exception as e:\n",
    "            continue  # Pular emails com erro\n",
    "    \n",
    "    print(f\"✅ {len(emails)} emails carregados com sucesso!\")\n",
    "    return emails\n",
    "\n",
    "# Carregar todos os emails\n",
    "print(\"🔄 Carregando emails...\")\n",
    "\n",
    "ham_emails = []\n",
    "spam_emails = []\n",
    "\n",
    "# Carregar HAM (não-spam)\n",
    "ham_emails.extend(load_emails_from_folder(os.path.join(data_path, \"easy_ham\")))\n",
    "ham_emails.extend(load_emails_from_folder(os.path.join(data_path, \"hard_ham\")))\n",
    "\n",
    "# Carregar SPAM\n",
    "spam_emails.extend(load_emails_from_folder(os.path.join(data_path, \"spam\")))\n",
    "spam_emails.extend(load_emails_from_folder(os.path.join(data_path, \"spam_2\")))\n",
    "\n",
    "print(f\"\\n📊 RESUMO:\")\n",
    "print(f\"HAM emails: {len(ham_emails)}\")\n",
    "print(f\"SPAM emails: {len(spam_emails)}\")\n",
    "print(f\"Total: {len(ham_emails) + len(spam_emails)}\")"
   ]
  },
  {
   "cell_type": "code",
   "execution_count": 6,
   "id": "020871d9",
   "metadata": {},
   "outputs": [
    {
     "name": "stdout",
     "output_type": "stream",
     "text": [
      "📊 Dataset preparado:\n",
      "Total de emails: 4651\n",
      "HAM: 2752\n",
      "SPAM: 1899\n",
      "\n",
      "🔄 Divisão treino/teste:\n",
      "Treino: 3720 emails\n",
      "Teste: 931 emails\n"
     ]
    }
   ],
   "source": [
    "# Preparar dados para o modelo\n",
    "from sklearn.model_selection import train_test_split\n",
    "from sklearn.feature_extraction.text import CountVectorizer\n",
    "from sklearn.naive_bayes import MultinomialNB\n",
    "from sklearn.pipeline import Pipeline\n",
    "from sklearn.metrics import accuracy_score, classification_report, confusion_matrix\n",
    "\n",
    "# Criar arrays com todos os emails e labels\n",
    "X = ham_emails + spam_emails\n",
    "y = ['ham'] * len(ham_emails) + ['spam'] * len(spam_emails)\n",
    "\n",
    "print(f\"📊 Dataset preparado:\")\n",
    "print(f\"Total de emails: {len(X)}\")\n",
    "print(f\"HAM: {y.count('ham')}\")\n",
    "print(f\"SPAM: {y.count('spam')}\")\n",
    "\n",
    "# Dividir em treino e teste\n",
    "X_train, X_test, y_train, y_test = train_test_split(\n",
    "    X, y, test_size=0.2, random_state=42, stratify=y\n",
    ")\n",
    "\n",
    "print(f\"\\n🔄 Divisão treino/teste:\")\n",
    "print(f\"Treino: {len(X_train)} emails\")\n",
    "print(f\"Teste: {len(X_test)} emails\")"
   ]
  },
  {
   "cell_type": "code",
   "execution_count": 7,
   "id": "049ad372",
   "metadata": {},
   "outputs": [
    {
     "name": "stdout",
     "output_type": "stream",
     "text": [
      "🔄 Treinando modelo...\n",
      "\n",
      "🎯 RESULTADO:\n",
      "Acurácia: 0.9538 (95.38%)\n"
     ]
    }
   ],
   "source": [
    "# Criar pipeline: Vectorizer + Naive Bayes\n",
    "spam_classifier = Pipeline([\n",
    "    ('vectorizer', CountVectorizer(stop_words='english', lowercase=True)),\n",
    "    ('classifier', MultinomialNB())\n",
    "])\n",
    "\n",
    "print(\"🔄 Treinando modelo...\")\n",
    "spam_classifier.fit(X_train, y_train)\n",
    "\n",
    "# Fazer predições\n",
    "y_pred = spam_classifier.predict(X_test)\n",
    "\n",
    "# Avaliar performance\n",
    "accuracy = accuracy_score(y_test, y_pred)\n",
    "print(f\"\\n🎯 RESULTADO:\")\n",
    "print(f\"Acurácia: {accuracy:.4f} ({accuracy*100:.2f}%)\")"
   ]
  },
  {
   "cell_type": "code",
   "execution_count": 8,
   "id": "c3517a35",
   "metadata": {},
   "outputs": [
    {
     "name": "stdout",
     "output_type": "stream",
     "text": [
      "\n",
      "📊 RELATÓRIO DETALHADO:\n",
      "              precision    recall  f1-score   support\n",
      "\n",
      "         ham       0.93      0.99      0.96       551\n",
      "        spam       0.99      0.89      0.94       380\n",
      "\n",
      "    accuracy                           0.95       931\n",
      "   macro avg       0.96      0.94      0.95       931\n",
      "weighted avg       0.96      0.95      0.95       931\n",
      "\n"
     ]
    },
    {
     "data": {
      "image/png": "[encoded data removed]",
      "text/plain": [
       "<Figure size 800x600 with 2 Axes>"
      ]
     },
     "metadata": {},
     "output_type": "display_data"
    }
   ],
   "source": [
    "# Classification report\n",
    "print(\"\\n📊 RELATÓRIO DETALHADO:\")\n",
    "print(classification_report(y_test, y_pred))\n",
    "\n",
    "# Matriz de confusão\n",
    "from sklearn.metrics import confusion_matrix\n",
    "import seaborn as sns\n",
    "import matplotlib.pyplot as plt\n",
    "\n",
    "cm = confusion_matrix(y_test, y_pred)\n",
    "plt.figure(figsize=(8, 6))\n",
    "sns.heatmap(cm, annot=True, fmt='d', cmap='Blues', \n",
    "            xticklabels=['HAM', 'SPAM'], \n",
    "            yticklabels=['HAM', 'SPAM'])\n",
    "plt.title('Matriz de Confusão - Classificador de Spam')\n",
    "plt.xlabel('Predição')\n",
    "plt.ylabel('Real')\n",
    "plt.show()"
   ]
  },
  {
   "cell_type": "code",
   "execution_count": 9,
   "id": "ebb4685e",
   "metadata": {},
   "outputs": [
    {
     "name": "stdout",
     "output_type": "stream",
     "text": [
      "📊 ANÁLISE DOS ERROS:\n",
      "Total de erros: 43\n",
      "\n",
      "🔍 EXEMPLOS DE ERROS:\n",
      "\n",
      "❌ Erro 1:\n",
      "Real: ham | Predito: spam\n",
      "Tamanho: 2152 chars\n",
      "Texto: We've not only reduced the f-p and f-n rates in my test runs, we've also\n",
      "made the score distributions substantially sharper.  This is bad news for\n",
      "Greg, because the non-existent \"middle ground\" is bec...\n",
      "--------------------------------------------------------------------------------\n",
      "\n",
      "❌ Erro 2:\n",
      "Real: spam | Predito: ham\n",
      "Tamanho: 0 chars\n",
      "Texto: ...\n",
      "--------------------------------------------------------------------------------\n",
      "\n",
      "❌ Erro 3:\n",
      "Real: spam | Predito: ham\n",
      "Tamanho: 400 chars\n",
      "Texto: <p align=center>I will show you HOW you can <u>quickly</u> and <u>easily</u> improve YOUR credit to a <b>PERFECT</b> rating!<br><b>\n",
      "<a href=\"http://resellers.cyabadcredit.com/YKGT/1/VEOIcnVgFY3XnRY7Fk...\n",
      "--------------------------------------------------------------------------------\n",
      "\n",
      "❌ Erro 4:\n",
      "Real: spam | Predito: ham\n",
      "Tamanho: 0 chars\n",
      "Texto: ...\n",
      "--------------------------------------------------------------------------------\n",
      "\n",
      "❌ Erro 5:\n",
      "Real: spam | Predito: ham\n",
      "Tamanho: 1729 chars\n",
      "Texto: Did you know that???\n",
      "\n",
      "Fact:\tEvery electrical system suffers from power surges?\n",
      "\n",
      "Fact:\t80% of electrical equipment damage is caused by surges - also known\n",
      "as 'spikes'.  These spikes can damage sensi...\n",
      "--------------------------------------------------------------------------------\n"
     ]
    }
   ],
   "source": [
    "# Análise detalhada dos erros\n",
    "import pandas as pd\n",
    "\n",
    "# Identificar emails classificados incorretamente\n",
    "wrong_predictions = []\n",
    "for i, (true_label, pred_label) in enumerate(zip(y_test, y_pred)):\n",
    "    if true_label != pred_label:\n",
    "        wrong_predictions.append({\n",
    "            'index': i,\n",
    "            'true_label': true_label,\n",
    "            'predicted_label': pred_label,\n",
    "            'email_text': X_test[i][:200] + '...',  # Primeiros 200 chars\n",
    "            'email_length': len(X_test[i])\n",
    "        })\n",
    "\n",
    "print(f\"📊 ANÁLISE DOS ERROS:\")\n",
    "print(f\"Total de erros: {len(wrong_predictions)}\")\n",
    "\n",
    "# Mostrar alguns exemplos de erros\n",
    "print(f\"\\n🔍 EXEMPLOS DE ERROS:\")\n",
    "for i, error in enumerate(wrong_predictions[:5]):  # Primeiros 5 erros\n",
    "    print(f\"\\n❌ Erro {i+1}:\")\n",
    "    print(f\"Real: {error['true_label']} | Predito: {error['predicted_label']}\")\n",
    "    print(f\"Tamanho: {error['email_length']} chars\")\n",
    "    print(f\"Texto: {error['email_text']}\")\n",
    "    print(\"-\" * 80)"
   ]
  },
  {
   "cell_type": "code",
   "execution_count": 10,
   "id": "df43f5d7",
   "metadata": {},
   "outputs": [
    {
     "name": "stdout",
     "output_type": "stream",
     "text": [
      "🔄 Testando TF-IDF melhorado...\n",
      "🎯 TF-IDF Melhorado: 0.9624 (96.24%)\n",
      "Matriz TF-IDF: HAM→SPAM: 7, SPAM→HAM: 28\n"
     ]
    }
   ],
   "source": [
    "# Modelo 2: TF-IDF + Naive Bayes (melhorado)\n",
    "from sklearn.feature_extraction.text import TfidfVectorizer\n",
    "\n",
    "print(\"🔄 Testando TF-IDF melhorado...\")\n",
    "\n",
    "# TF-IDF com parâmetros otimizados baseados nos erros\n",
    "spam_classifier_tfidf = Pipeline([\n",
    "    ('vectorizer', TfidfVectorizer(\n",
    "        stop_words='english', \n",
    "        lowercase=True, \n",
    "        max_features=10000,\n",
    "        min_df=2,           # Ignorar palavras muito raras\n",
    "        max_df=0.95,        # Ignorar palavras muito comuns\n",
    "        ngram_range=(1,2)   # Usar palavras individuais E pares\n",
    "    )),\n",
    "    ('classifier', MultinomialNB(alpha=0.1))  # Smoothing menor\n",
    "])\n",
    "\n",
    "spam_classifier_tfidf.fit(X_train, y_train)\n",
    "y_pred_tfidf = spam_classifier_tfidf.predict(X_test)\n",
    "\n",
    "accuracy_tfidf = accuracy_score(y_test, y_pred_tfidf)\n",
    "print(f\"🎯 TF-IDF Melhorado: {accuracy_tfidf:.4f} ({accuracy_tfidf*100:.2f}%)\")\n",
    "\n",
    "# Ver matriz de confusão\n",
    "cm_tfidf = confusion_matrix(y_test, y_pred_tfidf)\n",
    "print(f\"Matriz TF-IDF: HAM→SPAM: {cm_tfidf[0][1]}, SPAM→HAM: {cm_tfidf[1][0]}\")"
   ]
  },
  {
   "cell_type": "code",
   "execution_count": 11,
   "id": "6f41093a",
   "metadata": {},
   "outputs": [
    {
     "name": "stdout",
     "output_type": "stream",
     "text": [
      "🧹 Limpando dados...\n",
      "Exemplo antes: \n",
      "Hello ~name~,\n",
      "\n",
      "If you ordered a flat-rate domestic calling product or a 20 minute free trial using ...\n",
      "Exemplo depois: Hello name If you ordered a flat rate domestic calling product or a 20 minute free trial using a loc...\n"
     ]
    }
   ],
   "source": [
    "# Função para limpar emails problemáticos\n",
    "import re\n",
    "from html import unescape\n",
    "\n",
    "def clean_email_text(text):\n",
    "    \"\"\"\n",
    "    Limpa o texto do email para melhor classificação\n",
    "    \"\"\"\n",
    "    if not text or len(text.strip()) == 0:\n",
    "        return \"empty email\"\n",
    "    \n",
    "    # Remover HTML tags\n",
    "    text = re.sub(r'<[^>]+>', ' ', text)\n",
    "    \n",
    "    # Decodificar HTML entities\n",
    "    text = unescape(text)\n",
    "    \n",
    "    # Remover URLs\n",
    "    text = re.sub(r'http[s]?://(?:[a-zA-Z]|[0-9]|[$-_@.&+]|[!*\\\\(\\\\),]|(?:%[0-9a-fA-F][0-9a-fA-F]))+', 'URL', text)\n",
    "    \n",
    "    # Remover emails\n",
    "    text = re.sub(r'\\S+@\\S+', 'EMAIL', text)\n",
    "    \n",
    "    # Remover números longos (podem ser IDs, preços, etc)\n",
    "    text = re.sub(r'\\b\\d{3,}\\b', 'NUMBER', text)\n",
    "    \n",
    "    # Remover caracteres especiais excessivos\n",
    "    text = re.sub(r'[^\\w\\s]', ' ', text)\n",
    "    \n",
    "    # Remover espaços múltiplos\n",
    "    text = re.sub(r'\\s+', ' ', text)\n",
    "    \n",
    "    return text.strip()\n",
    "\n",
    "# Aplicar limpeza aos dados\n",
    "print(\"🧹 Limpando dados...\")\n",
    "X_train_clean = [clean_email_text(email) for email in X_train]\n",
    "X_test_clean = [clean_email_text(email) for email in X_test]\n",
    "\n",
    "print(f\"Exemplo antes: {X_train[0][:100]}...\")\n",
    "print(f\"Exemplo depois: {X_train_clean[0][:100]}...\")"
   ]
  },
  {
   "cell_type": "code",
   "execution_count": 12,
   "id": "06d4fb0c",
   "metadata": {},
   "outputs": [
    {
     "name": "stdout",
     "output_type": "stream",
     "text": [
      "🔄 Testando com dados limpos...\n",
      "🎯 Modelo Limpo: 0.9721 (97.21%)\n",
      "Matriz Limpa: HAM→SPAM: 7, SPAM→HAM: 19\n"
     ]
    }
   ],
   "source": [
    "# Modelo 3: TF-IDF + dados limpos\n",
    "print(\"🔄 Testando com dados limpos...\")\n",
    "\n",
    "spam_classifier_clean = Pipeline([\n",
    "    ('vectorizer', TfidfVectorizer(\n",
    "        stop_words='english', \n",
    "        lowercase=True, \n",
    "        max_features=10000,\n",
    "        min_df=2,\n",
    "        max_df=0.95,\n",
    "        ngram_range=(1,2)\n",
    "    )),\n",
    "    ('classifier', MultinomialNB(alpha=0.1))\n",
    "])\n",
    "\n",
    "spam_classifier_clean.fit(X_train_clean, y_train)\n",
    "y_pred_clean = spam_classifier_clean.predict(X_test_clean)\n",
    "\n",
    "accuracy_clean = accuracy_score(y_test, y_pred_clean)\n",
    "print(f\"🎯 Modelo Limpo: {accuracy_clean:.4f} ({accuracy_clean*100:.2f}%)\")\n",
    "\n",
    "# Ver matriz de confusão\n",
    "cm_clean = confusion_matrix(y_test, y_pred_clean)\n",
    "print(f\"Matriz Limpa: HAM→SPAM: {cm_clean[0][1]}, SPAM→HAM: {cm_clean[1][0]}\")"
   ]
  },
  {
   "cell_type": "code",
   "execution_count": 13,
   "id": "a0537aec",
   "metadata": {},
   "outputs": [
    {
     "name": "stdout",
     "output_type": "stream",
     "text": [
      "\n",
      "🏆 RANKING DOS MODELOS:\n",
      "==================================================\n",
      "1. TF-IDF + Dados Limpos: 0.9721 (97.21%)\n",
      "2. Naive Bayes (TF-IDF): 0.9624 (96.24%)\n",
      "3. Naive Bayes (Count): 0.9538 (95.38%)\n",
      "\n",
      "🥇 CAMPEÃO: TF-IDF + Dados Limpos com 97.21%\n",
      "🚀 MELHORIA TOTAL: +1.83 pontos percentuais!\n"
     ]
    }
   ],
   "source": [
    "# Comparar todos os modelos testados\n",
    "models_results = {\n",
    "    'Naive Bayes (Count)': accuracy_score(y_test, y_pred),\n",
    "    'Naive Bayes (TF-IDF)': accuracy_score(y_test, y_pred_tfidf),\n",
    "    'TF-IDF + Dados Limpos': accuracy_score(y_test, y_pred_clean)\n",
    "}\n",
    "\n",
    "print(\"\\n🏆 RANKING DOS MODELOS:\")\n",
    "print(\"=\"*50)\n",
    "sorted_models = sorted(models_results.items(), key=lambda x: x[1], reverse=True)\n",
    "for i, (model, acc) in enumerate(sorted_models, 1):\n",
    "    print(f\"{i}. {model}: {acc:.4f} ({acc*100:.2f}%)\")\n",
    "\n",
    "# Encontrar o melhor\n",
    "best_model_name = sorted_models[0][0]\n",
    "best_accuracy = sorted_models[0][1]\n",
    "print(f\"\\n🥇 CAMPEÃO: {best_model_name} com {best_accuracy*100:.2f}%\")\n",
    "\n",
    "# Mostrar melhoria total\n",
    "improvement = (best_accuracy - models_results['Naive Bayes (Count)']) * 100\n",
    "print(f\"🚀 MELHORIA TOTAL: +{improvement:.2f} pontos percentuais!\")"
   ]
  }
 ],
 "metadata": {
  "kernelspec": {
   "display_name": "pycaret_env",
   "language": "python",
   "name": "python3"
  },
  "language_info": {
   "codemirror_mode": {
    "name": "ipython",
    "version": 3
   },
   "file_extension": ".py",
   "mimetype": "text/x-python",
   "name": "python",
   "nbconvert_exporter": "python",
   "pygments_lexer": "ipython3",
   "version": "3.8.18"
  }
 },
 "nbformat": 4,
 "nbformat_minor": 5
}
