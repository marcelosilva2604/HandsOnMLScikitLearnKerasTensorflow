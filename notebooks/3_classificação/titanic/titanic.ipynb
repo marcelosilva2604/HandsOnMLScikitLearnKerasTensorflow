{
 "cells": [
  {
   "cell_type": "code",
   "execution_count": 1,
   "id": "05c2df0f",
   "metadata": {},
   "outputs": [],
   "source": [
    "import sklearn as sk\n",
    "import pandas as pd\n",
    "\n",
    "df = pd.read_csv('/Users/marcelosilva/Desktop/Hands-on/notebooks/3_classificação/titanic/train.csv')"
   ]
  },
  {
   "cell_type": "code",
   "execution_count": 4,
   "id": "7d276ff5",
   "metadata": {},
   "outputs": [
    {
     "name": "stdout",
     "output_type": "stream",
     "text": [
      "   PassengerId  Survived  Pclass  \\\n",
      "0            1         0       3   \n",
      "1            2         1       1   \n",
      "2            3         1       3   \n",
      "3            4         1       1   \n",
      "4            5         0       3   \n",
      "\n",
      "                                                Name     Sex   Age  SibSp  \\\n",
      "0                            Braund, Mr. Owen Harris    male  22.0      1   \n",
      "1  Cumings, Mrs. John Bradley (Florence Briggs Th...  female  38.0      1   \n",
      "2                             Heikkinen, Miss. Laina  female  26.0      0   \n",
      "3       Futrelle, Mrs. Jacques Heath (Lily May Peel)  female  35.0      1   \n",
      "4                           Allen, Mr. William Henry    male  35.0      0   \n",
      "\n",
      "   Parch            Ticket     Fare Cabin Embarked  \n",
      "0      0         A/5 21171   7.2500   NaN        S  \n",
      "1      0          PC 17599  71.2833   C85        C  \n",
      "2      0  STON/O2. 3101282   7.9250   NaN        S  \n",
      "3      0            113803  53.1000  C123        S  \n",
      "4      0            373450   8.0500   NaN        S  \n"
     ]
    }
   ],
   "source": [
    "print(df.head())"
   ]
  },
  {
   "cell_type": "code",
   "execution_count": 6,
   "id": "4510bcce",
   "metadata": {},
   "outputs": [
    {
     "name": "stdout",
     "output_type": "stream",
     "text": [
      "DataFrame Info with Completeness Analysis:\n",
      "---------------------------------------------------------------------------\n",
      "Total Rows: 891\n",
      "Total Columns: 12\n",
      "\n",
      "Column Details:\n",
      "---------------------------------------------------------------------------\n",
      "PassengerId               891 non-null int64      (100.0% complete)\n",
      "Survived                  891 non-null int64      (100.0% complete)\n",
      "Pclass                    891 non-null int64      (100.0% complete)\n",
      "Name                      891 non-null object     (100.0% complete)\n",
      "Sex                       891 non-null object     (100.0% complete)\n",
      "Age                       714 non-null float64    (80.13% complete) •\n",
      "SibSp                     891 non-null int64      (100.0% complete)\n",
      "Parch                     891 non-null int64      (100.0% complete)\n",
      "Ticket                    891 non-null object     (100.0% complete)\n",
      "Fare                      891 non-null float64    (100.0% complete)\n",
      "Cabin                     204 non-null object     (22.9% complete) •\n",
      "Embarked                  889 non-null object     (99.78% complete) •\n",
      "\n",
      "Memory Usage: 83.7+ KB\n"
     ]
    }
   ],
   "source": [
    "import pandas_utils as pdu\n",
    "pdu.custom_info(df)"
   ]
  },
  {
   "cell_type": "code",
   "execution_count": null,
   "id": "06990636",
   "metadata": {},
   "outputs": [],
   "source": []
  }
 ],
 "metadata": {
  "kernelspec": {
   "display_name": "pycaret_env",
   "language": "python",
   "name": "python3"
  },
  "language_info": {
   "codemirror_mode": {
    "name": "ipython",
    "version": 3
   },
   "file_extension": ".py",
   "mimetype": "text/x-python",
   "name": "python",
   "nbconvert_exporter": "python",
   "pygments_lexer": "ipython3",
   "version": "3.8.18"
  }
 },
 "nbformat": 4,
 "nbformat_minor": 5
}
