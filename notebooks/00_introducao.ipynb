{
  "cells": [
    {
      "cell_type": "raw",
      "metadata": {
        "vscode": {
          "languageId": "raw"
        }
      },
      "source": [
        "# 🚀 Hands-on Machine Learning - Introdução\n",
        "\n",
        "Bem-vindo ao meu projeto de estudos em Machine Learning! Este notebook serve como uma introdução ao projeto e verifica se todas as dependências estão instaladas corretamente.\n",
        "\n",
        "## 📚 Sobre este Projeto\n",
        "\n",
        "Este projeto é baseado no livro \"Hands-on Machine Learning with Scikit-Learn, Keras & TensorFlow\" de Aurélien Géron. Aqui vou implementar e experimentar com diferentes algoritmos de ML e Deep Learning.\n",
        "\n",
        "## 🎯 Objetivos de Aprendizado\n",
        "\n",
        "- Dominar os fundamentos de Machine Learning\n",
        "- Implementar algoritmos do zero e usando bibliotecas\n",
        "- Trabalhar com dados reais\n",
        "- Desenvolver projetos end-to-end\n",
        "- Experimentar with Deep Learning\n",
        "- Participar de competições no Kaggle\n"
      ]
    },
    {
      "cell_type": "raw",
      "metadata": {
        "vscode": {
          "languageId": "raw"
        }
      },
      "source": [
        "## 🔧 Verificação do Ambiente\n",
        "\n",
        "Vamos verificar se todas as bibliotecas principais estão instaladas:\n"
      ]
    },
    {
      "cell_type": "code",
      "execution_count": 1,
      "metadata": {},
      "outputs": [
        {
          "name": "stdout",
          "output_type": "stream",
          "text": [
            "Python version: 3.9.23 (main, Jun  3 2025, 18:47:52) \n",
            "[Clang 17.0.0 (clang-1700.0.13.3)]\n",
            "Python executable: /Users/marcelosilva/Desktop/Hands-on Machine Learning/.venv/bin/python\n"
          ]
        }
      ],
      "source": [
        "import sys\n",
        "print(f\"Python version: {sys.version}\")\n",
        "print(f\"Python executable: {sys.executable}\")\n"
      ]
    },
    {
      "cell_type": "code",
      "execution_count": 2,
      "metadata": {},
      "outputs": [
        {
          "name": "stdout",
          "output_type": "stream",
          "text": [
            "📦 Verificando bibliotecas instaladas:\n",
            "==================================================\n",
            "✅ NumPy           versão: 2.0.2\n",
            "✅ Pandas          versão: 2.3.0+4.g1dfc98e16a\n",
            "✅ Matplotlib      versão: 3.9.4\n",
            "✅ Seaborn         versão: 0.13.2\n",
            "✅ Scikit-learn    versão: 1.6.1\n",
            "✅ TensorFlow      versão: 2.19.0\n",
            "✅ Keras           versão: 3.10.0\n",
            "\n",
            "==================================================\n"
          ]
        }
      ],
      "source": [
        "# Verificando bibliotecas principais\n",
        "import warnings\n",
        "warnings.filterwarnings('ignore')\n",
        "\n",
        "libraries = {\n",
        "    'NumPy': 'numpy',\n",
        "    'Pandas': 'pandas', \n",
        "    'Matplotlib': 'matplotlib',\n",
        "    'Seaborn': 'seaborn',\n",
        "    'Scikit-learn': 'sklearn',\n",
        "    'TensorFlow': 'tensorflow',\n",
        "    'Keras': 'keras'\n",
        "}\n",
        "\n",
        "print(\"📦 Verificando bibliotecas instaladas:\")\n",
        "print(\"=\" * 50)\n",
        "\n",
        "for name, module in libraries.items():\n",
        "    try:\n",
        "        lib = __import__(module)\n",
        "        version = getattr(lib, '__version__', 'N/A')\n",
        "        print(f\"✅ {name:<15} versão: {version}\")\n",
        "    except ImportError:\n",
        "        print(f\"❌ {name:<15} não instalado\")\n",
        "\n",
        "print(\"\\n\" + \"=\" * 50)\n"
      ]
    },
    {
      "cell_type": "raw",
      "metadata": {
        "vscode": {
          "languageId": "raw"
        }
      },
      "source": [
        "## 📊 Primeiro Exemplo: Classificação com Random Forest\n",
        "\n",
        "Vamos criar um exemplo simples usando dados sintéticos para testar o ambiente:\n"
      ]
    },
    {
      "cell_type": "code",
      "execution_count": 3,
      "metadata": {},
      "outputs": [
        {
          "name": "stdout",
          "output_type": "stream",
          "text": [
            "🎯 Bibliotecas importadas com sucesso!\n"
          ]
        }
      ],
      "source": [
        "import numpy as np\n",
        "import pandas as pd\n",
        "import matplotlib.pyplot as plt\n",
        "import seaborn as sns\n",
        "from sklearn.datasets import make_classification\n",
        "from sklearn.model_selection import train_test_split\n",
        "from sklearn.ensemble import RandomForestClassifier\n",
        "from sklearn.metrics import classification_report, confusion_matrix, accuracy_score\n",
        "\n",
        "# Configuração do matplotlib\n",
        "plt.style.use('default')\n",
        "plt.rcParams['figure.figsize'] = (10, 6)\n",
        "sns.set_palette(\"husl\")\n",
        "\n",
        "print(\"🎯 Bibliotecas importadas com sucesso!\")\n"
      ]
    },
    {
      "cell_type": "code",
      "execution_count": 4,
      "metadata": {},
      "outputs": [
        {
          "name": "stdout",
          "output_type": "stream",
          "text": [
            "Dataset criado com 1000 amostras e 20 features\n",
            "Classes: [0 1 2]\n",
            "Distribuição das classes: [333 331 336]\n",
            "\n",
            "Conjunto de treino: 800 amostras\n",
            "Conjunto de teste: 200 amostras\n"
          ]
        }
      ],
      "source": [
        "# Criando dataset sintético\n",
        "X, y = make_classification(\n",
        "    n_samples=1000,\n",
        "    n_features=20,\n",
        "    n_informative=15,\n",
        "    n_redundant=5,\n",
        "    n_classes=3,\n",
        "    random_state=42\n",
        ")\n",
        "\n",
        "print(f\"Dataset criado com {X.shape[0]} amostras e {X.shape[1]} features\")\n",
        "print(f\"Classes: {np.unique(y)}\")\n",
        "print(f\"Distribuição das classes: {np.bincount(y)}\")\n",
        "\n",
        "# Dividindo dados em treino e teste\n",
        "X_train, X_test, y_train, y_test = train_test_split(\n",
        "    X, y, test_size=0.2, random_state=42, stratify=y\n",
        ")\n",
        "\n",
        "print(f\"\\nConjunto de treino: {X_train.shape[0]} amostras\")\n",
        "print(f\"Conjunto de teste: {X_test.shape[0]} amostras\")\n"
      ]
    },
    {
      "cell_type": "code",
      "execution_count": 5,
      "metadata": {},
      "outputs": [
        {
          "name": "stdout",
          "output_type": "stream",
          "text": [
            "🎯 Modelo Random Forest treinado com sucesso!\n",
            "Acurácia no conjunto de teste: 0.7850\n",
            "\n",
            "📊 Relatório de Classificação:\n",
            "==================================================\n",
            "              precision    recall  f1-score   support\n",
            "\n",
            "           0       0.78      0.73      0.75        67\n",
            "           1       0.77      0.86      0.81        66\n",
            "           2       0.81      0.76      0.78        67\n",
            "\n",
            "    accuracy                           0.79       200\n",
            "   macro avg       0.79      0.79      0.78       200\n",
            "weighted avg       0.79      0.79      0.78       200\n",
            "\n"
          ]
        }
      ],
      "source": [
        "# Treinando modelo Random Forest\n",
        "rf_model = RandomForestClassifier(n_estimators=100, random_state=42)\n",
        "rf_model.fit(X_train, y_train)\n",
        "\n",
        "# Fazendo predições\n",
        "y_pred = rf_model.predict(X_test)\n",
        "\n",
        "# Avaliando o modelo\n",
        "accuracy = accuracy_score(y_test, y_pred)\n",
        "print(f\"🎯 Modelo Random Forest treinado com sucesso!\")\n",
        "print(f\"Acurácia no conjunto de teste: {accuracy:.4f}\")\n",
        "\n",
        "# Relatório de classificação\n",
        "print(\"\\n📊 Relatório de Classificação:\")\n",
        "print(\"=\" * 50)\n",
        "print(classification_report(y_test, y_pred))\n"
      ]
    },
    {
      "cell_type": "raw",
      "metadata": {
        "vscode": {
          "languageId": "raw"
        }
      },
      "source": [
        "## 🎉 Conclusão\n",
        "\n",
        "Parabéns! Se você chegou até aqui sem erros, seu ambiente está configurado corretamente e você está pronto para começar sua jornada em Machine Learning!\n",
        "\n",
        "## 📚 Próximos Passos\n",
        "\n",
        "1. **Capítulo 1**: Explore `01_fundamentals/` para entender os conceitos básicos\n",
        "2. **Capítulo 2**: Trabalhe com projetos end-to-end em `02_end_to_end/`\n",
        "3. **Kaggle**: Comece com competições simples como Titanic\n",
        "4. **Prática**: Implemente algoritmos do zero para entender melhor\n",
        "\n",
        "## 🔗 Recursos Úteis\n",
        "\n",
        "- [Scikit-learn User Guide](https://scikit-learn.org/stable/user_guide.html)\n",
        "- [TensorFlow Tutorials](https://www.tensorflow.org/tutorials)\n",
        "- [Kaggle Learn](https://www.kaggle.com/learn)\n",
        "- [Papers With Code](https://paperswithcode.com/)\n",
        "\n",
        "---\n",
        "\n",
        "**Boa sorte nos seus estudos! 🚀**\n"
      ]
    }
  ],
  "metadata": {
    "kernelspec": {
      "display_name": ".venv",
      "language": "python",
      "name": "python3"
    },
    "language_info": {
      "codemirror_mode": {
        "name": "ipython",
        "version": 3
      },
      "file_extension": ".py",
      "mimetype": "text/x-python",
      "name": "python",
      "nbconvert_exporter": "python",
      "pygments_lexer": "ipython3",
      "version": "3.9.23"
    }
  },
  "nbformat": 4,
  "nbformat_minor": 2
}
